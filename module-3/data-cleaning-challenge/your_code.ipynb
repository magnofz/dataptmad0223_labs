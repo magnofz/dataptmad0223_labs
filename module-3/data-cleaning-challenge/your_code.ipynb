{
 "cells": [
  {
   "cell_type": "code",
   "execution_count": 23,
   "id": "4c4c943e",
   "metadata": {},
   "outputs": [],
   "source": [
    "import numpy as np\n",
    "import pandas as pd\n",
    "\n",
    "import matplotlib.pyplot as plt\n",
    "import seaborn as sns\n",
    "\n",
    "# from sklearn.impute import SimpleImputer\n",
    "\n",
    "from sklearn.preprocessing import StandardScaler\n",
    "# from sklearn.preprocessing import MinMaxScaler\n",
    "# from sklearn.preprocessing import RobustScaler\n",
    "\n",
    "# from collections import Counter\n",
    "# from sklearn.datasets import make_classification\n",
    "# from imblearn.over_sampling import SMOTE\n"
   ]
  },
  {
   "cell_type": "code",
   "execution_count": 2,
   "id": "6a483628",
   "metadata": {},
   "outputs": [
    {
     "data": {
      "text/html": [
       "<div>\n",
       "<style scoped>\n",
       "    .dataframe tbody tr th:only-of-type {\n",
       "        vertical-align: middle;\n",
       "    }\n",
       "\n",
       "    .dataframe tbody tr th {\n",
       "        vertical-align: top;\n",
       "    }\n",
       "\n",
       "    .dataframe thead th {\n",
       "        text-align: right;\n",
       "    }\n",
       "</style>\n",
       "<table border=\"1\" class=\"dataframe\">\n",
       "  <thead>\n",
       "    <tr style=\"text-align: right;\">\n",
       "      <th></th>\n",
       "      <th>sepal_length_cm</th>\n",
       "      <th>sepal_width_cm</th>\n",
       "      <th>petal_length_cm</th>\n",
       "      <th>petal_width_cm</th>\n",
       "      <th>class</th>\n",
       "    </tr>\n",
       "  </thead>\n",
       "  <tbody>\n",
       "    <tr>\n",
       "      <th>0</th>\n",
       "      <td>5.1</td>\n",
       "      <td>3.5</td>\n",
       "      <td>1.4</td>\n",
       "      <td>0.2</td>\n",
       "      <td>Iris-setosa</td>\n",
       "    </tr>\n",
       "    <tr>\n",
       "      <th>1</th>\n",
       "      <td>4.9</td>\n",
       "      <td>3.0</td>\n",
       "      <td>1.4</td>\n",
       "      <td>0.2</td>\n",
       "      <td>Iris-setosa</td>\n",
       "    </tr>\n",
       "    <tr>\n",
       "      <th>2</th>\n",
       "      <td>4.7</td>\n",
       "      <td>3.2</td>\n",
       "      <td>1.3</td>\n",
       "      <td>0.2</td>\n",
       "      <td>Iris-setosa</td>\n",
       "    </tr>\n",
       "    <tr>\n",
       "      <th>3</th>\n",
       "      <td>4.6</td>\n",
       "      <td>3.1</td>\n",
       "      <td>1.5</td>\n",
       "      <td>0.2</td>\n",
       "      <td>Iris-setosa</td>\n",
       "    </tr>\n",
       "    <tr>\n",
       "      <th>4</th>\n",
       "      <td>5.0</td>\n",
       "      <td>3.6</td>\n",
       "      <td>1.4</td>\n",
       "      <td>0.2</td>\n",
       "      <td>Iris-setosa</td>\n",
       "    </tr>\n",
       "  </tbody>\n",
       "</table>\n",
       "</div>"
      ],
      "text/plain": [
       "   sepal_length_cm  sepal_width_cm  petal_length_cm  petal_width_cm  \\\n",
       "0              5.1             3.5              1.4             0.2   \n",
       "1              4.9             3.0              1.4             0.2   \n",
       "2              4.7             3.2              1.3             0.2   \n",
       "3              4.6             3.1              1.5             0.2   \n",
       "4              5.0             3.6              1.4             0.2   \n",
       "\n",
       "         class  \n",
       "0  Iris-setosa  \n",
       "1  Iris-setosa  \n",
       "2  Iris-setosa  \n",
       "3  Iris-setosa  \n",
       "4  Iris-setosa  "
      ]
     },
     "execution_count": 2,
     "metadata": {},
     "output_type": "execute_result"
    }
   ],
   "source": [
    "df = pd.read_csv('./iris-data.csv')\n",
    "df.head(5)"
   ]
  },
  {
   "cell_type": "code",
   "execution_count": 3,
   "id": "05a92e61",
   "metadata": {},
   "outputs": [
    {
     "name": "stdout",
     "output_type": "stream",
     "text": [
      "<class 'pandas.core.frame.DataFrame'>\n",
      "RangeIndex: 150 entries, 0 to 149\n",
      "Data columns (total 5 columns):\n",
      " #   Column           Non-Null Count  Dtype  \n",
      "---  ------           --------------  -----  \n",
      " 0   sepal_length_cm  150 non-null    float64\n",
      " 1   sepal_width_cm   150 non-null    float64\n",
      " 2   petal_length_cm  150 non-null    float64\n",
      " 3   petal_width_cm   145 non-null    float64\n",
      " 4   class            150 non-null    object \n",
      "dtypes: float64(4), object(1)\n",
      "memory usage: 6.0+ KB\n"
     ]
    }
   ],
   "source": [
    "df.info()"
   ]
  },
  {
   "cell_type": "code",
   "execution_count": 4,
   "id": "f7b95f28",
   "metadata": {},
   "outputs": [
    {
     "data": {
      "text/html": [
       "<div>\n",
       "<style scoped>\n",
       "    .dataframe tbody tr th:only-of-type {\n",
       "        vertical-align: middle;\n",
       "    }\n",
       "\n",
       "    .dataframe tbody tr th {\n",
       "        vertical-align: top;\n",
       "    }\n",
       "\n",
       "    .dataframe thead th {\n",
       "        text-align: right;\n",
       "    }\n",
       "</style>\n",
       "<table border=\"1\" class=\"dataframe\">\n",
       "  <thead>\n",
       "    <tr style=\"text-align: right;\">\n",
       "      <th></th>\n",
       "      <th>sepal_length_cm</th>\n",
       "      <th>sepal_width_cm</th>\n",
       "      <th>petal_length_cm</th>\n",
       "      <th>petal_width_cm</th>\n",
       "    </tr>\n",
       "  </thead>\n",
       "  <tbody>\n",
       "    <tr>\n",
       "      <th>count</th>\n",
       "      <td>150.000000</td>\n",
       "      <td>150.000000</td>\n",
       "      <td>150.000000</td>\n",
       "      <td>145.000000</td>\n",
       "    </tr>\n",
       "    <tr>\n",
       "      <th>mean</th>\n",
       "      <td>5.644627</td>\n",
       "      <td>3.054667</td>\n",
       "      <td>3.758667</td>\n",
       "      <td>1.236552</td>\n",
       "    </tr>\n",
       "    <tr>\n",
       "      <th>std</th>\n",
       "      <td>1.312781</td>\n",
       "      <td>0.433123</td>\n",
       "      <td>1.764420</td>\n",
       "      <td>0.755058</td>\n",
       "    </tr>\n",
       "    <tr>\n",
       "      <th>min</th>\n",
       "      <td>0.055000</td>\n",
       "      <td>2.000000</td>\n",
       "      <td>1.000000</td>\n",
       "      <td>0.100000</td>\n",
       "    </tr>\n",
       "    <tr>\n",
       "      <th>25%</th>\n",
       "      <td>5.100000</td>\n",
       "      <td>2.800000</td>\n",
       "      <td>1.600000</td>\n",
       "      <td>0.400000</td>\n",
       "    </tr>\n",
       "    <tr>\n",
       "      <th>50%</th>\n",
       "      <td>5.700000</td>\n",
       "      <td>3.000000</td>\n",
       "      <td>4.350000</td>\n",
       "      <td>1.300000</td>\n",
       "    </tr>\n",
       "    <tr>\n",
       "      <th>75%</th>\n",
       "      <td>6.400000</td>\n",
       "      <td>3.300000</td>\n",
       "      <td>5.100000</td>\n",
       "      <td>1.800000</td>\n",
       "    </tr>\n",
       "    <tr>\n",
       "      <th>max</th>\n",
       "      <td>7.900000</td>\n",
       "      <td>4.400000</td>\n",
       "      <td>6.900000</td>\n",
       "      <td>2.500000</td>\n",
       "    </tr>\n",
       "  </tbody>\n",
       "</table>\n",
       "</div>"
      ],
      "text/plain": [
       "       sepal_length_cm  sepal_width_cm  petal_length_cm  petal_width_cm\n",
       "count       150.000000      150.000000       150.000000      145.000000\n",
       "mean          5.644627        3.054667         3.758667        1.236552\n",
       "std           1.312781        0.433123         1.764420        0.755058\n",
       "min           0.055000        2.000000         1.000000        0.100000\n",
       "25%           5.100000        2.800000         1.600000        0.400000\n",
       "50%           5.700000        3.000000         4.350000        1.300000\n",
       "75%           6.400000        3.300000         5.100000        1.800000\n",
       "max           7.900000        4.400000         6.900000        2.500000"
      ]
     },
     "execution_count": 4,
     "metadata": {},
     "output_type": "execute_result"
    }
   ],
   "source": [
    "df.describe()"
   ]
  },
  {
   "cell_type": "code",
   "execution_count": 5,
   "id": "249d039a",
   "metadata": {},
   "outputs": [
    {
     "data": {
      "text/plain": [
       "array(['Iris-setosa', 'Iris-setossa', 'Iris-versicolor', 'versicolor',\n",
       "       'Iris-virginica'], dtype=object)"
      ]
     },
     "execution_count": 5,
     "metadata": {},
     "output_type": "execute_result"
    }
   ],
   "source": [
    "df['class'].unique()"
   ]
  },
  {
   "cell_type": "code",
   "execution_count": 6,
   "id": "21888d55",
   "metadata": {},
   "outputs": [
    {
     "data": {
      "text/html": [
       "<div>\n",
       "<style scoped>\n",
       "    .dataframe tbody tr th:only-of-type {\n",
       "        vertical-align: middle;\n",
       "    }\n",
       "\n",
       "    .dataframe tbody tr th {\n",
       "        vertical-align: top;\n",
       "    }\n",
       "\n",
       "    .dataframe thead th {\n",
       "        text-align: right;\n",
       "    }\n",
       "</style>\n",
       "<table border=\"1\" class=\"dataframe\">\n",
       "  <thead>\n",
       "    <tr style=\"text-align: right;\">\n",
       "      <th></th>\n",
       "      <th>categorical_variable</th>\n",
       "      <th>number_of_possible_values</th>\n",
       "      <th>values</th>\n",
       "    </tr>\n",
       "  </thead>\n",
       "  <tbody>\n",
       "    <tr>\n",
       "      <th>0</th>\n",
       "      <td>petal_length_cm</td>\n",
       "      <td>43</td>\n",
       "      <td>[1.4, 1.3, 1.5, 1.7, 1.6, 1.1, 1.2, 1.0, 1.9, ...</td>\n",
       "    </tr>\n",
       "    <tr>\n",
       "      <th>1</th>\n",
       "      <td>sepal_length_cm</td>\n",
       "      <td>38</td>\n",
       "      <td>[5.1, 4.9, 4.7, 4.6, 5.0, 5.4, 4.4, 4.8, 5.7, ...</td>\n",
       "    </tr>\n",
       "    <tr>\n",
       "      <th>2</th>\n",
       "      <td>sepal_width_cm</td>\n",
       "      <td>23</td>\n",
       "      <td>[3.5, 3.0, 3.2, 3.1, 3.6, 3.9, 3.4, 2.9, 3.7, ...</td>\n",
       "    </tr>\n",
       "    <tr>\n",
       "      <th>3</th>\n",
       "      <td>petal_width_cm</td>\n",
       "      <td>23</td>\n",
       "      <td>[0.2, 0.4, 0.3, nan, 0.1, 0.5, 0.6, 1.4, 1.5, ...</td>\n",
       "    </tr>\n",
       "    <tr>\n",
       "      <th>4</th>\n",
       "      <td>class</td>\n",
       "      <td>5</td>\n",
       "      <td>[Iris-setosa, Iris-setossa, Iris-versicolor, v...</td>\n",
       "    </tr>\n",
       "  </tbody>\n",
       "</table>\n",
       "</div>"
      ],
      "text/plain": [
       "  categorical_variable  number_of_possible_values  \\\n",
       "0      petal_length_cm                         43   \n",
       "1      sepal_length_cm                         38   \n",
       "2       sepal_width_cm                         23   \n",
       "3       petal_width_cm                         23   \n",
       "4                class                          5   \n",
       "\n",
       "                                              values  \n",
       "0  [1.4, 1.3, 1.5, 1.7, 1.6, 1.1, 1.2, 1.0, 1.9, ...  \n",
       "1  [5.1, 4.9, 4.7, 4.6, 5.0, 5.4, 4.4, 4.8, 5.7, ...  \n",
       "2  [3.5, 3.0, 3.2, 3.1, 3.6, 3.9, 3.4, 2.9, 3.7, ...  \n",
       "3  [0.2, 0.4, 0.3, nan, 0.1, 0.5, 0.6, 1.4, 1.5, ...  \n",
       "4  [Iris-setosa, Iris-setossa, Iris-versicolor, v...  "
      ]
     },
     "execution_count": 6,
     "metadata": {},
     "output_type": "execute_result"
    }
   ],
   "source": [
    "# categorical features\n",
    "\n",
    "cols = ['sepal_length_cm', 'sepal_width_cm', 'petal_length_cm', 'petal_width_cm', 'class']\n",
    "\n",
    "cat_list = []\n",
    "for col in cols:\n",
    "    cat = df[col].unique()\n",
    "    cat_num = len(cat)\n",
    "    cat_dict = {\"categorical_variable\":col,\n",
    "                \"number_of_possible_values\":cat_num,\n",
    "                \"values\":cat}\n",
    "    cat_list.append(cat_dict)\n",
    "    \n",
    "categories = pd.DataFrame(cat_list).sort_values(by=\"number_of_possible_values\",\n",
    "                                                ascending=False).reset_index(drop=True)\n",
    "categories"
   ]
  },
  {
   "cell_type": "code",
   "execution_count": 7,
   "id": "f736b60d",
   "metadata": {},
   "outputs": [
    {
     "data": {
      "text/plain": [
       "sepal_length_cm    0\n",
       "sepal_width_cm     0\n",
       "petal_length_cm    0\n",
       "petal_width_cm     5\n",
       "class              0\n",
       "dtype: int64"
      ]
     },
     "execution_count": 7,
     "metadata": {},
     "output_type": "execute_result"
    }
   ],
   "source": [
    "df.isnull().sum()"
   ]
  },
  {
   "cell_type": "code",
   "execution_count": 8,
   "id": "29466780",
   "metadata": {},
   "outputs": [
    {
     "data": {
      "text/plain": [
       "<Axes: title={'center': 'sepal_length_cm'}, xlabel='class'>"
      ]
     },
     "execution_count": 8,
     "metadata": {},
     "output_type": "execute_result"
    },
    {
     "data": {
      "image/png": "[encoded data removed]",
      "text/plain": [
       "<Figure size 640x480 with 1 Axes>"
      ]
     },
     "metadata": {},
     "output_type": "display_data"
    }
   ],
   "source": [
    "# df['sepal_length_cm'].plot.hist()\n",
    "df.boxplot(column=['sepal_length_cm'], by='class')"
   ]
  },
  {
   "cell_type": "code",
   "execution_count": 9,
   "id": "6c147724",
   "metadata": {},
   "outputs": [
    {
     "data": {
      "text/html": [
       "<div>\n",
       "<style scoped>\n",
       "    .dataframe tbody tr th:only-of-type {\n",
       "        vertical-align: middle;\n",
       "    }\n",
       "\n",
       "    .dataframe tbody tr th {\n",
       "        vertical-align: top;\n",
       "    }\n",
       "\n",
       "    .dataframe thead th {\n",
       "        text-align: right;\n",
       "    }\n",
       "</style>\n",
       "<table border=\"1\" class=\"dataframe\">\n",
       "  <thead>\n",
       "    <tr style=\"text-align: right;\">\n",
       "      <th></th>\n",
       "      <th>sepal_length_cm</th>\n",
       "      <th>sepal_width_cm</th>\n",
       "      <th>petal_length_cm</th>\n",
       "      <th>petal_width_cm</th>\n",
       "      <th>class</th>\n",
       "    </tr>\n",
       "  </thead>\n",
       "  <tbody>\n",
       "    <tr>\n",
       "      <th>80</th>\n",
       "      <td>0.055</td>\n",
       "      <td>2.4</td>\n",
       "      <td>3.8</td>\n",
       "      <td>1.1</td>\n",
       "      <td>Iris-versicolor</td>\n",
       "    </tr>\n",
       "    <tr>\n",
       "      <th>81</th>\n",
       "      <td>0.055</td>\n",
       "      <td>2.4</td>\n",
       "      <td>3.7</td>\n",
       "      <td>1.0</td>\n",
       "      <td>Iris-versicolor</td>\n",
       "    </tr>\n",
       "    <tr>\n",
       "      <th>79</th>\n",
       "      <td>0.057</td>\n",
       "      <td>2.6</td>\n",
       "      <td>3.5</td>\n",
       "      <td>1.0</td>\n",
       "      <td>Iris-versicolor</td>\n",
       "    </tr>\n",
       "    <tr>\n",
       "      <th>78</th>\n",
       "      <td>0.060</td>\n",
       "      <td>2.9</td>\n",
       "      <td>4.5</td>\n",
       "      <td>1.5</td>\n",
       "      <td>Iris-versicolor</td>\n",
       "    </tr>\n",
       "    <tr>\n",
       "      <th>77</th>\n",
       "      <td>0.067</td>\n",
       "      <td>3.0</td>\n",
       "      <td>5.0</td>\n",
       "      <td>1.7</td>\n",
       "      <td>Iris-versicolor</td>\n",
       "    </tr>\n",
       "    <tr>\n",
       "      <th>57</th>\n",
       "      <td>4.900</td>\n",
       "      <td>2.4</td>\n",
       "      <td>3.3</td>\n",
       "      <td>1.0</td>\n",
       "      <td>Iris-versicolor</td>\n",
       "    </tr>\n",
       "    <tr>\n",
       "      <th>60</th>\n",
       "      <td>5.000</td>\n",
       "      <td>2.0</td>\n",
       "      <td>3.5</td>\n",
       "      <td>1.0</td>\n",
       "      <td>Iris-versicolor</td>\n",
       "    </tr>\n",
       "    <tr>\n",
       "      <th>93</th>\n",
       "      <td>5.000</td>\n",
       "      <td>2.3</td>\n",
       "      <td>3.3</td>\n",
       "      <td>1.0</td>\n",
       "      <td>Iris-versicolor</td>\n",
       "    </tr>\n",
       "    <tr>\n",
       "      <th>59</th>\n",
       "      <td>5.200</td>\n",
       "      <td>2.7</td>\n",
       "      <td>3.9</td>\n",
       "      <td>1.4</td>\n",
       "      <td>Iris-versicolor</td>\n",
       "    </tr>\n",
       "    <tr>\n",
       "      <th>84</th>\n",
       "      <td>5.400</td>\n",
       "      <td>3.0</td>\n",
       "      <td>4.5</td>\n",
       "      <td>1.5</td>\n",
       "      <td>Iris-versicolor</td>\n",
       "    </tr>\n",
       "  </tbody>\n",
       "</table>\n",
       "</div>"
      ],
      "text/plain": [
       "    sepal_length_cm  sepal_width_cm  petal_length_cm  petal_width_cm  \\\n",
       "80            0.055             2.4              3.8             1.1   \n",
       "81            0.055             2.4              3.7             1.0   \n",
       "79            0.057             2.6              3.5             1.0   \n",
       "78            0.060             2.9              4.5             1.5   \n",
       "77            0.067             3.0              5.0             1.7   \n",
       "57            4.900             2.4              3.3             1.0   \n",
       "60            5.000             2.0              3.5             1.0   \n",
       "93            5.000             2.3              3.3             1.0   \n",
       "59            5.200             2.7              3.9             1.4   \n",
       "84            5.400             3.0              4.5             1.5   \n",
       "\n",
       "              class  \n",
       "80  Iris-versicolor  \n",
       "81  Iris-versicolor  \n",
       "79  Iris-versicolor  \n",
       "78  Iris-versicolor  \n",
       "77  Iris-versicolor  \n",
       "57  Iris-versicolor  \n",
       "60  Iris-versicolor  \n",
       "93  Iris-versicolor  \n",
       "59  Iris-versicolor  \n",
       "84  Iris-versicolor  "
      ]
     },
     "execution_count": 9,
     "metadata": {},
     "output_type": "execute_result"
    }
   ],
   "source": [
    "df[df['class'] == 'Iris-versicolor'].sort_values('sepal_length_cm').head(10)"
   ]
  },
  {
   "cell_type": "code",
   "execution_count": 10,
   "id": "95daec66",
   "metadata": {},
   "outputs": [
    {
     "data": {
      "text/plain": [
       "<Axes: title={'center': 'sepal_width_cm'}, xlabel='class'>"
      ]
     },
     "execution_count": 10,
     "metadata": {},
     "output_type": "execute_result"
    },
    {
     "data": {
      "image/png": "[encoded data removed]",
      "text/plain": [
       "<Figure size 640x480 with 1 Axes>"
      ]
     },
     "metadata": {},
     "output_type": "display_data"
    }
   ],
   "source": [
    "# df['sepal_width_cm'].plot.hist()\n",
    "df.boxplot(column=['sepal_width_cm'], by='class')"
   ]
  },
  {
   "cell_type": "code",
   "execution_count": 11,
   "id": "b7fb01e5",
   "metadata": {},
   "outputs": [
    {
     "data": {
      "text/plain": [
       "<Axes: title={'center': 'petal_length_cm'}, xlabel='class'>"
      ]
     },
     "execution_count": 11,
     "metadata": {},
     "output_type": "execute_result"
    },
    {
     "data": {
      "image/png": "[encoded data removed]",
      "text/plain": [
       "<Figure size 640x480 with 1 Axes>"
      ]
     },
     "metadata": {},
     "output_type": "display_data"
    }
   ],
   "source": [
    "# df['petal_length_cm'].plot.hist()\n",
    "df.boxplot(column=['petal_length_cm'], by='class')"
   ]
  },
  {
   "cell_type": "code",
   "execution_count": 12,
   "id": "432e11a7",
   "metadata": {},
   "outputs": [
    {
     "data": {
      "text/plain": [
       "<Axes: title={'center': 'petal_width_cm'}, xlabel='class'>"
      ]
     },
     "execution_count": 12,
     "metadata": {},
     "output_type": "execute_result"
    },
    {
     "data": {
      "image/png": "[encoded data removed]",
      "text/plain": [
       "<Figure size 640x480 with 1 Axes>"
      ]
     },
     "metadata": {},
     "output_type": "display_data"
    }
   ],
   "source": [
    "# df['petal_width_cm'].plot.hist()\n",
    "df.boxplot(column=['petal_width_cm'], by='class')"
   ]
  },
  {
   "cell_type": "code",
   "execution_count": 13,
   "id": "abca1542",
   "metadata": {},
   "outputs": [
    {
     "data": {
      "text/plain": [
       "[Text(0.5, 0, 'petal_width_cm'),\n",
       " Text(0, 0.5, 'petal_length_cm'),\n",
       " Text(0.5, 1.0, 'petal')]"
      ]
     },
     "execution_count": 13,
     "metadata": {},
     "output_type": "execute_result"
    },
    {
     "data": {
      "image/png": "[encoded data removed]",
      "text/plain": [
       "<Figure size 1400x700 with 2 Axes>"
      ]
     },
     "metadata": {},
     "output_type": "display_data"
    }
   ],
   "source": [
    "fig, axs = plt.subplots(ncols=2, nrows=1, figsize=(14,7))\n",
    "axs[0].scatter(df['sepal_width_cm'], df['sepal_length_cm'], c='green')\n",
    "axs[0].set(xlabel='sepal_width_cm', ylabel='sepal_length_cm', title='sepal')\n",
    "\n",
    "axs[1].scatter(df['petal_width_cm'], df['petal_length_cm'], c='blue')\n",
    "axs[1].set(xlabel='petal_width_cm', ylabel='petal_length_cm', title='petal')"
   ]
  },
  {
   "cell_type": "code",
   "execution_count": 14,
   "id": "00c924d0",
   "metadata": {},
   "outputs": [
    {
     "data": {
      "text/plain": [
       "array(['Iris-setosa', 'Iris-versicolor', 'Iris-virginica'], dtype=object)"
      ]
     },
     "execution_count": 14,
     "metadata": {},
     "output_type": "execute_result"
    }
   ],
   "source": [
    "#class name adjustment:\n",
    "\n",
    "df_fixed = df\n",
    "\n",
    "df_fixed['class'] = df_fixed.apply(lambda x: 'Iris-setosa' if x['class'] == 'Iris-setossa' else x['class'], axis=1)\n",
    "df_fixed['class'] = df_fixed.apply(lambda x: 'Iris-versicolor' if x['class'] == 'versicolor' else x['class'], axis=1)\n",
    "df_fixed['class'].unique()"
   ]
  },
  {
   "cell_type": "code",
   "execution_count": 15,
   "id": "3b095c5c",
   "metadata": {},
   "outputs": [
    {
     "name": "stdout",
     "output_type": "stream",
     "text": [
      "<class 'pandas.core.frame.DataFrame'>\n",
      "Int64Index: 145 entries, 0 to 149\n",
      "Data columns (total 5 columns):\n",
      " #   Column           Non-Null Count  Dtype  \n",
      "---  ------           --------------  -----  \n",
      " 0   sepal_length_cm  145 non-null    float64\n",
      " 1   sepal_width_cm   145 non-null    float64\n",
      " 2   petal_length_cm  145 non-null    float64\n",
      " 3   petal_width_cm   145 non-null    float64\n",
      " 4   class            145 non-null    object \n",
      "dtypes: float64(4), object(1)\n",
      "memory usage: 6.8+ KB\n"
     ]
    }
   ],
   "source": [
    "# drop NULL rows:\n",
    "\n",
    "df_fixed = df_fixed.dropna()\n",
    "df_fixed.info()"
   ]
  },
  {
   "cell_type": "code",
   "execution_count": 16,
   "id": "9a6cdd58",
   "metadata": {},
   "outputs": [
    {
     "name": "stdout",
     "output_type": "stream",
     "text": [
      "<class 'pandas.core.frame.DataFrame'>\n",
      "Int64Index: 140 entries, 0 to 149\n",
      "Data columns (total 5 columns):\n",
      " #   Column           Non-Null Count  Dtype  \n",
      "---  ------           --------------  -----  \n",
      " 0   sepal_length_cm  140 non-null    float64\n",
      " 1   sepal_width_cm   140 non-null    float64\n",
      " 2   petal_length_cm  140 non-null    float64\n",
      " 3   petal_width_cm   140 non-null    float64\n",
      " 4   class            140 non-null    object \n",
      "dtypes: float64(4), object(1)\n",
      "memory usage: 6.6+ KB\n"
     ]
    }
   ],
   "source": [
    "# drop out of range data rows(sepal_length_cm):\n",
    "\n",
    "df_fixed = df_fixed[df_fixed['sepal_length_cm'] > 2]\n",
    "df_fixed.info()"
   ]
  },
  {
   "cell_type": "code",
   "execution_count": 31,
   "id": "a01835e9",
   "metadata": {},
   "outputs": [],
   "source": [
    "df_fixed_ohe = pd.get_dummies(data=df_fixed, columns=['class'], drop_first=True).reset_index()"
   ]
  },
  {
   "cell_type": "code",
   "execution_count": 32,
   "id": "84c3587a",
   "metadata": {},
   "outputs": [],
   "source": [
    "df_fixed_ohe.to_csv('./iris-data-fixed.csv')"
   ]
  },
  {
   "cell_type": "code",
   "execution_count": 27,
   "id": "1943a42e",
   "metadata": {},
   "outputs": [
    {
     "data": {
      "text/html": [
       "<div>\n",
       "<style scoped>\n",
       "    .dataframe tbody tr th:only-of-type {\n",
       "        vertical-align: middle;\n",
       "    }\n",
       "\n",
       "    .dataframe tbody tr th {\n",
       "        vertical-align: top;\n",
       "    }\n",
       "\n",
       "    .dataframe thead th {\n",
       "        text-align: right;\n",
       "    }\n",
       "</style>\n",
       "<table border=\"1\" class=\"dataframe\">\n",
       "  <thead>\n",
       "    <tr style=\"text-align: right;\">\n",
       "      <th></th>\n",
       "      <th>sepal_length_cm</th>\n",
       "      <th>sepal_width_cm</th>\n",
       "      <th>petal_length_cm</th>\n",
       "      <th>petal_width_cm</th>\n",
       "    </tr>\n",
       "  </thead>\n",
       "  <tbody>\n",
       "    <tr>\n",
       "      <th>0</th>\n",
       "      <td>5.1</td>\n",
       "      <td>3.5</td>\n",
       "      <td>1.4</td>\n",
       "      <td>0.2</td>\n",
       "    </tr>\n",
       "    <tr>\n",
       "      <th>1</th>\n",
       "      <td>4.9</td>\n",
       "      <td>3.0</td>\n",
       "      <td>1.4</td>\n",
       "      <td>0.2</td>\n",
       "    </tr>\n",
       "    <tr>\n",
       "      <th>2</th>\n",
       "      <td>4.7</td>\n",
       "      <td>3.2</td>\n",
       "      <td>1.3</td>\n",
       "      <td>0.2</td>\n",
       "    </tr>\n",
       "    <tr>\n",
       "      <th>3</th>\n",
       "      <td>4.6</td>\n",
       "      <td>3.1</td>\n",
       "      <td>1.5</td>\n",
       "      <td>0.2</td>\n",
       "    </tr>\n",
       "    <tr>\n",
       "      <th>4</th>\n",
       "      <td>5.0</td>\n",
       "      <td>3.6</td>\n",
       "      <td>1.4</td>\n",
       "      <td>0.2</td>\n",
       "    </tr>\n",
       "  </tbody>\n",
       "</table>\n",
       "</div>"
      ],
      "text/plain": [
       "   sepal_length_cm  sepal_width_cm  petal_length_cm  petal_width_cm\n",
       "0              5.1             3.5              1.4             0.2\n",
       "1              4.9             3.0              1.4             0.2\n",
       "2              4.7             3.2              1.3             0.2\n",
       "3              4.6             3.1              1.5             0.2\n",
       "4              5.0             3.6              1.4             0.2"
      ]
     },
     "execution_count": 27,
     "metadata": {},
     "output_type": "execute_result"
    }
   ],
   "source": [
    "sample_data = df_fixed_ohe[['sepal_length_cm', 'sepal_width_cm', 'petal_length_cm', 'petal_width_cm']]\n",
    "sample_data.head(5)"
   ]
  },
  {
   "cell_type": "code",
   "execution_count": 29,
   "id": "9c92733f",
   "metadata": {},
   "outputs": [
    {
     "data": {
      "text/plain": [
       "array([[-0.95949252,  1.01757178, -1.37612179, -1.35594577],\n",
       "       [-1.20848038, -0.13875979, -1.37612179, -1.35594577],\n",
       "       [-1.45746825,  0.32377284, -1.43281898, -1.35594577],\n",
       "       [-1.58196218,  0.09250653, -1.3194246 , -1.35594577],\n",
       "       [-1.08398645,  1.24883809, -1.37612179, -1.35594577],\n",
       "       [-0.58601072,  1.94263703, -1.20603022, -1.09410797],\n",
       "       [-1.58196218,  0.78630546, -1.37612179, -1.22502687],\n",
       "       [-1.33297432, -0.13875979, -1.37612179, -1.48686468],\n",
       "       [-0.21252893, -0.13875979, -1.54621336, -1.48686468],\n",
       "       [-0.08803499,  2.17390334, -1.48951617, -1.35594577],\n",
       "       [-0.21252893,  3.0989686 , -1.3194246 , -1.09410797],\n",
       "       [-0.58601072,  1.94263703, -1.43281898, -1.09410797],\n",
       "       [-0.95949252,  1.01757178, -1.37612179, -1.22502687],\n",
       "       [-0.21252893,  1.71137072, -1.20603022, -1.22502687],\n",
       "       [-0.95949252,  1.71137072, -1.3194246 , -1.22502687],\n",
       "       [-0.58601072,  0.78630546, -1.20603022, -1.35594577],\n",
       "       [-0.95949252,  1.4801044 , -1.3194246 , -1.09410797],\n",
       "       [-1.58196218,  1.24883809, -1.60291055, -1.35594577],\n",
       "       [-0.95949252,  0.55503915, -1.20603022, -0.96318907],\n",
       "       [-1.33297432,  0.78630546, -1.09263584, -1.35594577],\n",
       "       [-1.08398645, -0.13875979, -1.26272741, -1.35594577],\n",
       "       [-1.08398645,  0.78630546, -1.26272741, -1.09410797],\n",
       "       [-0.83499859,  1.01757178, -1.3194246 , -1.35594577],\n",
       "       [-0.83499859,  0.78630546, -1.37612179, -1.35594577],\n",
       "       [-1.45746825,  0.32377284, -1.26272741, -1.35594577],\n",
       "       [-1.33297432,  0.09250653, -1.26272741, -1.35594577],\n",
       "       [-0.58601072,  0.78630546, -1.3194246 , -1.09410797],\n",
       "       [-0.83499859,  2.40516966, -1.3194246 , -1.48686468],\n",
       "       [-0.46151679,  2.63643597, -1.37612179, -1.35594577],\n",
       "       [-1.20848038,  0.09250653, -1.3194246 , -1.48686468],\n",
       "       [-1.08398645,  0.32377284, -1.48951617, -1.35594577],\n",
       "       [-0.46151679,  1.01757178, -1.43281898, -1.35594577],\n",
       "       [-1.20848038,  0.09250653, -1.3194246 , -1.48686468],\n",
       "       [-1.83095005, -0.13875979, -1.43281898, -1.35594577],\n",
       "       [-0.95949252,  0.78630546, -1.3194246 , -1.35594577],\n",
       "       [-1.08398645,  1.01757178, -1.43281898, -1.22502687],\n",
       "       [-1.70645611, -1.75762398, -1.43281898, -1.22502687],\n",
       "       [-1.83095005,  0.32377284, -1.43281898, -1.35594577],\n",
       "       [-1.08398645,  1.01757178, -1.26272741, -0.83227016],\n",
       "       [-0.95949252,  1.71137072, -1.09263584, -1.09410797],\n",
       "       [-1.33297432, -0.13875979, -1.37612179, -1.22502687],\n",
       "       [-0.95949252,  1.71137072, -1.26272741, -1.35594577],\n",
       "       [-1.58196218,  0.32377284, -1.37612179, -1.35594577],\n",
       "       [-0.71050466,  1.4801044 , -1.3194246 , -1.35594577],\n",
       "       [-1.08398645,  0.55503915, -1.37612179, -1.35594577],\n",
       "       [ 1.40589219,  0.32377284,  0.49488547,  0.21508105],\n",
       "       [ 0.6589286 ,  0.32377284,  0.38149109,  0.34599996],\n",
       "       [ 1.28139826,  0.09250653,  0.60827985,  0.34599996],\n",
       "       [-0.46151679, -1.75762398,  0.09800514,  0.08416215],\n",
       "       [ 0.78342253, -0.60129241,  0.43818828,  0.34599996],\n",
       "       [-0.21252893, -0.60129241,  0.38149109,  0.08416215],\n",
       "       [ 0.53443467,  0.55503915,  0.49488547,  0.47691886],\n",
       "       [-1.20848038, -1.52635767, -0.29887519, -0.30859456],\n",
       "       [ 0.90791646, -0.3700261 ,  0.43818828,  0.08416215],\n",
       "       [-0.83499859, -0.83255873,  0.04130795,  0.21508105],\n",
       "       [-1.08398645, -2.45142292, -0.18548081, -0.30859456],\n",
       "       [ 0.03645894, -0.13875979,  0.21139952,  0.34599996],\n",
       "       [ 0.16095287, -1.98889029,  0.09800514, -0.30859456],\n",
       "       [ 0.2854468 , -0.3700261 ,  0.49488547,  0.21508105],\n",
       "       [-0.33702286, -0.3700261 , -0.12878362,  0.08416215],\n",
       "       [ 1.03241039,  0.09250653,  0.3247939 ,  0.21508105],\n",
       "       [-0.33702286, -0.13875979,  0.38149109,  0.34599996],\n",
       "       [-0.08803499, -0.83255873,  0.15470233, -0.30859456],\n",
       "       [ 0.40994073, -1.98889029,  0.38149109,  0.34599996],\n",
       "       [-0.33702286, -1.29509135,  0.04130795, -0.17767565],\n",
       "       [ 0.03645894,  0.32377284,  0.55158266,  0.73875666],\n",
       "       [ 0.2854468 , -0.60129241,  0.09800514,  0.08416215],\n",
       "       [ 0.53443467, -1.29509135,  0.60827985,  0.34599996],\n",
       "       [ 0.2854468 , -0.60129241,  0.49488547, -0.04675675],\n",
       "       [ 0.6589286 , -0.3700261 ,  0.26809671,  0.08416215],\n",
       "       [ 0.90791646, -0.13875979,  0.3247939 ,  0.21508105],\n",
       "       [ 1.15690433, -0.60129241,  0.55158266,  0.21508105],\n",
       "       [-0.08803499, -0.83255873,  0.04130795, -0.04675675],\n",
       "       [ 0.16095287, -0.60129241,  0.72167423,  0.47691886],\n",
       "       [-0.58601072, -0.13875979,  0.38149109,  0.34599996],\n",
       "       [ 0.16095287,  0.78630546,  0.38149109,  0.47691886],\n",
       "       [ 1.03241039,  0.09250653,  0.49488547,  0.34599996],\n",
       "       [ 0.53443467, -1.75762398,  0.3247939 ,  0.08416215],\n",
       "       [-0.33702286, -0.13875979,  0.15470233,  0.08416215],\n",
       "       [-0.46151679, -1.29509135,  0.09800514,  0.08416215],\n",
       "       [-0.46151679, -1.06382504,  0.3247939 , -0.04675675],\n",
       "       [ 0.2854468 , -0.13875979,  0.43818828,  0.21508105],\n",
       "       [-0.08803499, -1.06382504,  0.09800514, -0.04675675],\n",
       "       [-1.08398645, -1.75762398, -0.29887519, -0.30859456],\n",
       "       [-0.33702286, -0.83255873,  0.21139952,  0.08416215],\n",
       "       [-0.21252893, -0.13875979,  0.21139952, -0.04675675],\n",
       "       [-0.21252893, -0.3700261 ,  0.21139952,  0.08416215],\n",
       "       [ 0.40994073, -0.3700261 ,  0.26809671,  0.08416215],\n",
       "       [-0.95949252, -1.29509135, -0.46896676, -0.17767565],\n",
       "       [-0.21252893, -0.60129241,  0.15470233,  0.08416215],\n",
       "       [ 0.53443467,  0.55503915,  1.23194894,  1.65518898],\n",
       "       [-0.08803499, -0.83255873,  0.72167423,  0.86967557],\n",
       "       [ 1.53038612, -0.13875979,  1.17525175,  1.13151337],\n",
       "       [ 0.53443467, -0.3700261 ,  1.00516018,  0.73875666],\n",
       "       [ 0.78342253, -0.13875979,  1.11855456,  1.26243227],\n",
       "       [ 2.15285578, -0.13875979,  1.57213208,  1.13151337],\n",
       "       [-1.20848038, -1.29509135,  0.38149109,  0.60783776],\n",
       "       [ 1.77937399, -0.3700261 ,  1.40204051,  0.73875666],\n",
       "       [ 1.03241039, -1.29509135,  1.11855456,  0.73875666],\n",
       "       [ 1.65488006,  1.24883809,  1.28864613,  1.65518898],\n",
       "       [ 0.78342253,  0.32377284,  0.72167423,  1.00059447],\n",
       "       [ 0.6589286 , -0.83255873,  0.83506861,  0.86967557],\n",
       "       [ 1.15690433, -0.13875979,  0.94846299,  1.13151337],\n",
       "       [-0.21252893, -1.29509135,  0.66497704,  1.00059447],\n",
       "       [-0.08803499, -0.60129241,  0.72167423,  1.52427008],\n",
       "       [ 0.6589286 ,  0.32377284,  0.83506861,  1.39335118],\n",
       "       [ 0.78342253, -0.13875979,  0.94846299,  0.73875666],\n",
       "       [ 2.27734972,  1.71137072,  1.62882927,  1.26243227],\n",
       "       [ 2.27734972, -1.06382504,  1.74222364,  1.39335118],\n",
       "       [ 0.16095287, -1.98889029,  0.66497704,  0.34599996],\n",
       "       [ 1.28139826,  0.32377284,  1.06185737,  1.39335118],\n",
       "       [-0.33702286, -0.60129241,  0.60827985,  1.00059447],\n",
       "       [-0.33702286, -0.60129241,  1.62882927,  1.00059447],\n",
       "       [ 0.53443467, -0.83255873,  0.60827985,  0.73875666],\n",
       "       [ 1.03241039,  0.55503915,  1.06185737,  1.13151337],\n",
       "       [ 1.65488006,  0.32377284,  1.23194894,  0.73875666],\n",
       "       [ 0.40994073, -0.60129241,  0.55158266,  0.73875666],\n",
       "       [ 0.2854468 , -0.13875979,  0.60827985,  0.73875666],\n",
       "       [ 0.6589286 , -0.60129241,  1.00516018,  1.13151337],\n",
       "       [ 1.65488006, -0.13875979,  1.11855456,  0.47691886],\n",
       "       [ 1.90386792, -0.60129241,  1.28864613,  0.86967557],\n",
       "       [ 2.52633758,  1.71137072,  1.4587377 ,  1.00059447],\n",
       "       [ 0.6589286 , -0.60129241,  1.00516018,  1.26243227],\n",
       "       [ 0.53443467, -0.60129241,  0.72167423,  0.34599996],\n",
       "       [ 0.2854468 , -1.06382504,  1.00516018,  0.21508105],\n",
       "       [ 2.27734972, -0.13875979,  1.28864613,  1.39335118],\n",
       "       [ 0.53443467,  0.78630546,  1.00516018,  1.52427008],\n",
       "       [ 0.6589286 ,  0.09250653,  0.94846299,  0.73875666],\n",
       "       [ 0.16095287, -0.13875979,  0.55158266,  0.73875666],\n",
       "       [ 1.28139826,  0.09250653,  0.8917658 ,  1.13151337],\n",
       "       [ 1.03241039,  0.09250653,  1.00516018,  1.52427008],\n",
       "       [ 1.28139826,  0.09250653,  0.72167423,  1.39335118],\n",
       "       [-0.08803499, -0.83255873,  0.72167423,  0.86967557],\n",
       "       [ 1.15690433,  0.32377284,  1.17525175,  1.39335118],\n",
       "       [ 1.03241039,  0.55503915,  1.06185737,  1.65518898],\n",
       "       [ 1.03241039, -0.13875979,  0.77837142,  1.39335118],\n",
       "       [ 0.53443467, -1.29509135,  0.66497704,  1.39335118],\n",
       "       [ 0.78342253, -0.13875979,  0.77837142,  1.00059447],\n",
       "       [ 0.40994073,  0.78630546,  0.8917658 ,  1.39335118],\n",
       "       [ 0.03645894, -0.13875979,  0.72167423,  0.73875666]])"
      ]
     },
     "execution_count": 29,
     "metadata": {},
     "output_type": "execute_result"
    }
   ],
   "source": [
    "scaler = StandardScaler()\n",
    "scaled_data = scaler.fit_transform(sample_data)\n",
    "scaled_data"
   ]
  },
  {
   "cell_type": "code",
   "execution_count": null,
   "id": "96331714",
   "metadata": {},
   "outputs": [],
   "source": []
  },
  {
   "cell_type": "code",
   "execution_count": null,
   "id": "e300f060",
   "metadata": {},
   "outputs": [],
   "source": []
  },
  {
   "cell_type": "code",
   "execution_count": null,
   "id": "eec8a7f3",
   "metadata": {},
   "outputs": [],
   "source": []
  },
  {
   "cell_type": "code",
   "execution_count": null,
   "id": "61f640de",
   "metadata": {},
   "outputs": [],
   "source": []
  }
 ],
 "metadata": {
  "kernelspec": {
   "display_name": "Python [conda env:sklearn_env]",
   "language": "python",
   "name": "conda-env-sklearn_env-py"
  },
  "language_info": {
   "codemirror_mode": {
    "name": "ipython",
    "version": 3
   },
   "file_extension": ".py",
   "mimetype": "text/x-python",
   "name": "python",
   "nbconvert_exporter": "python",
   "pygments_lexer": "ipython3",
   "version": "3.11.3"
  }
 },
 "nbformat": 4,
 "nbformat_minor": 5
}
